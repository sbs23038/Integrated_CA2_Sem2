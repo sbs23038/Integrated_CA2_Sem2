{
 "cells": [
  {
   "cell_type": "code",
   "execution_count": 1,
   "id": "f04daf87",
   "metadata": {},
   "outputs": [
    {
     "data": {
      "text/plain": [
       "'local[*]'"
      ]
     },
     "execution_count": 1,
     "metadata": {},
     "output_type": "execute_result"
    }
   ],
   "source": [
    "sc.master"
   ]
  },
  {
   "cell_type": "code",
   "execution_count": 3,
   "id": "ca1cede4",
   "metadata": {},
   "outputs": [],
   "source": [
    "import warnings\n",
    "warnings.filterwarnings('ignore')"
   ]
  },
  {
   "cell_type": "code",
   "execution_count": 4,
   "id": "869aea9a",
   "metadata": {},
   "outputs": [
    {
     "name": "stderr",
     "output_type": "stream",
     "text": [
      "                                                                                \r"
     ]
    }
   ],
   "source": [
    "sc = spark.sparkContext\n",
    "\n",
    "path = \"/CA2/ProjectTweets.csv\"\n",
    "\n",
    "df = spark.read.csv(path)"
   ]
  },
  {
   "cell_type": "code",
   "execution_count": 5,
   "id": "692c1cb6",
   "metadata": {},
   "outputs": [
    {
     "name": "stdout",
     "output_type": "stream",
     "text": [
      "+---+----------+--------------------+--------+---------------+--------------------+\n",
      "|_c0|       _c1|                 _c2|     _c3|            _c4|                 _c5|\n",
      "+---+----------+--------------------+--------+---------------+--------------------+\n",
      "|  0|1467810369|Mon Apr 06 22:19:...|NO_QUERY|_TheSpecialOne_|@switchfoot http:...|\n",
      "|  1|1467810672|Mon Apr 06 22:19:...|NO_QUERY|  scotthamilton|is upset that he ...|\n",
      "|  2|1467810917|Mon Apr 06 22:19:...|NO_QUERY|       mattycus|@Kenichan I dived...|\n",
      "|  3|1467811184|Mon Apr 06 22:19:...|NO_QUERY|        ElleCTF|my whole body fee...|\n",
      "|  4|1467811193|Mon Apr 06 22:19:...|NO_QUERY|         Karoli|@nationwideclass ...|\n",
      "|  5|1467811372|Mon Apr 06 22:20:...|NO_QUERY|       joy_wolf|@Kwesidei not the...|\n",
      "|  6|1467811592|Mon Apr 06 22:20:...|NO_QUERY|        mybirch|         Need a hug |\n",
      "|  7|1467811594|Mon Apr 06 22:20:...|NO_QUERY|           coZZ|@LOLTrish hey  lo...|\n",
      "|  8|1467811795|Mon Apr 06 22:20:...|NO_QUERY|2Hood4Hollywood|@Tatiana_K nope t...|\n",
      "|  9|1467812025|Mon Apr 06 22:20:...|NO_QUERY|        mimismo|@twittera que me ...|\n",
      "| 10|1467812416|Mon Apr 06 22:20:...|NO_QUERY| erinx3leannexo|spring break in p...|\n",
      "| 11|1467812579|Mon Apr 06 22:20:...|NO_QUERY|   pardonlauren|I just re-pierced...|\n",
      "| 12|1467812723|Mon Apr 06 22:20:...|NO_QUERY|           TLeC|@caregiving I cou...|\n",
      "| 13|1467812771|Mon Apr 06 22:20:...|NO_QUERY|robrobbierobert|@octolinz16 It it...|\n",
      "| 14|1467812784|Mon Apr 06 22:20:...|NO_QUERY|    bayofwolves|@smarrison i woul...|\n",
      "| 15|1467812799|Mon Apr 06 22:20:...|NO_QUERY|     HairByJess|@iamjazzyfizzle I...|\n",
      "| 16|1467812964|Mon Apr 06 22:20:...|NO_QUERY| lovesongwriter|Hollis' death sce...|\n",
      "| 17|1467813137|Mon Apr 06 22:20:...|NO_QUERY|       armotley|about to file taxes |\n",
      "| 18|1467813579|Mon Apr 06 22:20:...|NO_QUERY|     starkissed|@LettyA ahh ive a...|\n",
      "| 19|1467813782|Mon Apr 06 22:20:...|NO_QUERY|      gi_gi_bee|@FakerPattyPattz ...|\n",
      "+---+----------+--------------------+--------+---------------+--------------------+\n",
      "only showing top 20 rows\n",
      "\n"
     ]
    }
   ],
   "source": [
    "df.show()"
   ]
  },
  {
   "cell_type": "code",
   "execution_count": 12,
   "id": "ee689d60",
   "metadata": {},
   "outputs": [],
   "source": [
    "df = df.withColumnRenamed(df.columns[0],\"row\").withColumnRenamed(df.columns[1],\"id\").withColumnRenamed(df.columns[2],\"date\").withColumnRenamed(df.columns[3],\"query\").withColumnRenamed(df.columns[4],\"handle\").withColumnRenamed(df.columns[5],\"tweet\")"
   ]
  },
  {
   "cell_type": "code",
   "execution_count": 13,
   "id": "02116b17",
   "metadata": {},
   "outputs": [
    {
     "name": "stdout",
     "output_type": "stream",
     "text": [
      "+---+----------+--------------------+--------+---------------+--------------------+\n",
      "|row|        id|                date|   query|         handle|               tweet|\n",
      "+---+----------+--------------------+--------+---------------+--------------------+\n",
      "|  0|1467810369|Mon Apr 06 22:19:...|NO_QUERY|_TheSpecialOne_|@switchfoot http:...|\n",
      "|  1|1467810672|Mon Apr 06 22:19:...|NO_QUERY|  scotthamilton|is upset that he ...|\n",
      "|  2|1467810917|Mon Apr 06 22:19:...|NO_QUERY|       mattycus|@Kenichan I dived...|\n",
      "|  3|1467811184|Mon Apr 06 22:19:...|NO_QUERY|        ElleCTF|my whole body fee...|\n",
      "|  4|1467811193|Mon Apr 06 22:19:...|NO_QUERY|         Karoli|@nationwideclass ...|\n",
      "|  5|1467811372|Mon Apr 06 22:20:...|NO_QUERY|       joy_wolf|@Kwesidei not the...|\n",
      "|  6|1467811592|Mon Apr 06 22:20:...|NO_QUERY|        mybirch|         Need a hug |\n",
      "|  7|1467811594|Mon Apr 06 22:20:...|NO_QUERY|           coZZ|@LOLTrish hey  lo...|\n",
      "|  8|1467811795|Mon Apr 06 22:20:...|NO_QUERY|2Hood4Hollywood|@Tatiana_K nope t...|\n",
      "|  9|1467812025|Mon Apr 06 22:20:...|NO_QUERY|        mimismo|@twittera que me ...|\n",
      "| 10|1467812416|Mon Apr 06 22:20:...|NO_QUERY| erinx3leannexo|spring break in p...|\n",
      "| 11|1467812579|Mon Apr 06 22:20:...|NO_QUERY|   pardonlauren|I just re-pierced...|\n",
      "| 12|1467812723|Mon Apr 06 22:20:...|NO_QUERY|           TLeC|@caregiving I cou...|\n",
      "| 13|1467812771|Mon Apr 06 22:20:...|NO_QUERY|robrobbierobert|@octolinz16 It it...|\n",
      "| 14|1467812784|Mon Apr 06 22:20:...|NO_QUERY|    bayofwolves|@smarrison i woul...|\n",
      "| 15|1467812799|Mon Apr 06 22:20:...|NO_QUERY|     HairByJess|@iamjazzyfizzle I...|\n",
      "| 16|1467812964|Mon Apr 06 22:20:...|NO_QUERY| lovesongwriter|Hollis' death sce...|\n",
      "| 17|1467813137|Mon Apr 06 22:20:...|NO_QUERY|       armotley|about to file taxes |\n",
      "| 18|1467813579|Mon Apr 06 22:20:...|NO_QUERY|     starkissed|@LettyA ahh ive a...|\n",
      "| 19|1467813782|Mon Apr 06 22:20:...|NO_QUERY|      gi_gi_bee|@FakerPattyPattz ...|\n",
      "+---+----------+--------------------+--------+---------------+--------------------+\n",
      "only showing top 20 rows\n",
      "\n"
     ]
    }
   ],
   "source": [
    "df.show()"
   ]
  },
  {
   "cell_type": "code",
   "execution_count": 105,
   "id": "2d019dde",
   "metadata": {},
   "outputs": [],
   "source": [
    "keyword = \"twitter\""
   ]
  },
  {
   "cell_type": "code",
   "execution_count": 106,
   "id": "6e7944e7",
   "metadata": {},
   "outputs": [],
   "source": [
    "from pyspark.sql.functions import col"
   ]
  },
  {
   "cell_type": "code",
   "execution_count": 108,
   "id": "61442286",
   "metadata": {},
   "outputs": [
    {
     "name": "stderr",
     "output_type": "stream",
     "text": [
      "\r",
      "[Stage 66:>                                                         (0 + 1) / 1]\r"
     ]
    },
    {
     "name": "stdout",
     "output_type": "stream",
     "text": [
      "+----+----------+--------------------+--------+---------------+--------------------+\n",
      "| row|        id|                date|   query|         handle|               tweet|\n",
      "+----+----------+--------------------+--------+---------------+--------------------+\n",
      "|   9|1467812025|Mon Apr 06 22:20:...|NO_QUERY|        mimismo|@twittera que me ...|\n",
      "| 224|1467871661|Mon Apr 06 22:35:...|NO_QUERY|       ciairuhh|I miss you twitte...|\n",
      "| 231|1467872181|Mon Apr 06 22:35:...|NO_QUERY|         admdrw|@charlietm I know...|\n",
      "| 562|1467951568|Mon Apr 06 22:57:...|NO_QUERY|         spcake|@chordsy - why am...|\n",
      "| 611|1467966271|Mon Apr 06 23:02:...|NO_QUERY|        leelaaa|finding it really...|\n",
      "| 680|1467983247|Mon Apr 06 23:06:...|NO_QUERY|      MichaelPe|@FollowSavvy I ne...|\n",
      "| 700|1467986284|Mon Apr 06 23:07:...|NO_QUERY|Christiansegall|trying to figure ...|\n",
      "| 725|1467992696|Mon Apr 06 23:09:...|NO_QUERY|      pop_corn_|I feel like I am ...|\n",
      "| 730|1467993829|Mon Apr 06 23:09:...|NO_QUERY|       jmbirney|I reaaly miss joh...|\n",
      "| 820|1468013368|Mon Apr 06 23:15:...|NO_QUERY|    JaniceMyNig|Haha not even yo....|\n",
      "| 842|1468020159|Mon Apr 06 23:17:...|NO_QUERY|    SpazOfDrool|just found out th...|\n",
      "| 989|1468053611|Mon Apr 06 23:28:...|NO_QUERY|    mariejamora|@hellobebe I also...|\n",
      "|1071|1468074597|Mon Apr 06 23:34:...|NO_QUERY|        PeterHC|Used the term &qu...|\n",
      "|1084|1468076724|Mon Apr 06 23:35:...|NO_QUERY|   RebeccaLange|@sarahprout tweet...|\n",
      "|1128|1468087595|Mon Apr 06 23:38:...|NO_QUERY|        rstolan|@brendamew2 no ar...|\n",
      "|1145|1468094825|Mon Apr 06 23:41:...|NO_QUERY|      marie_660|too cold and tire...|\n",
      "|1167|1468099029|Mon Apr 06 23:42:...|NO_QUERY|         webmyc|@twitter please f...|\n",
      "|1284|1468122378|Mon Apr 06 23:50:...|NO_QUERY|  TrueFollowers|@powerpoole some ...|\n",
      "|1348|1468133469|Mon Apr 06 23:53:...|NO_QUERY|        Samm_xo|@garretjiroux do ...|\n",
      "|1395|1468144341|Mon Apr 06 23:57:...|NO_QUERY|  AshleyMoore21|re newing my twit...|\n",
      "+----+----------+--------------------+--------+---------------+--------------------+\n",
      "only showing top 20 rows\n",
      "\n"
     ]
    },
    {
     "name": "stderr",
     "output_type": "stream",
     "text": [
      "\r",
      "                                                                                \r"
     ]
    }
   ],
   "source": [
    "twitter_df = df.filter(col(\"tweet\").contains(keyword))\n",
    "twitter_df.show()"
   ]
  },
  {
   "cell_type": "code",
   "execution_count": 109,
   "id": "c7c87149",
   "metadata": {},
   "outputs": [],
   "source": [
    "twitter_df.createOrReplaceTempView(\"twitter\")"
   ]
  },
  {
   "cell_type": "code",
   "execution_count": 110,
   "id": "e8b4f9f7",
   "metadata": {},
   "outputs": [],
   "source": [
    "twitter_df_tweet = spark.sql(\"SELECT tweet from twitter WHERE row = 989\")"
   ]
  },
  {
   "cell_type": "code",
   "execution_count": 111,
   "id": "cd4b856b",
   "metadata": {},
   "outputs": [
    {
     "name": "stderr",
     "output_type": "stream",
     "text": [
      "[Stage 68:>                                                         (0 + 1) / 1]\r"
     ]
    },
    {
     "name": "stdout",
     "output_type": "stream",
     "text": [
      "+------------------------------------------------------------------------------------------------------------------------------+\n",
      "|tweet                                                                                                                         |\n",
      "+------------------------------------------------------------------------------------------------------------------------------+\n",
      "|@hellobebe I also send some updates in plurk but i upload photos on twitter!  you didnt see any of my updates on plurk? Zero? |\n",
      "+------------------------------------------------------------------------------------------------------------------------------+\n",
      "\n"
     ]
    },
    {
     "name": "stderr",
     "output_type": "stream",
     "text": [
      "\r",
      "                                                                                \r"
     ]
    }
   ],
   "source": [
    "twitter_df_tweet.show(truncate = False)"
   ]
  },
  {
   "cell_type": "code",
   "execution_count": 112,
   "id": "9f3fcd9c",
   "metadata": {},
   "outputs": [
    {
     "name": "stderr",
     "output_type": "stream",
     "text": [
      "                                                                                \r"
     ]
    },
    {
     "data": {
      "text/plain": [
       "27272"
      ]
     },
     "execution_count": 112,
     "metadata": {},
     "output_type": "execute_result"
    }
   ],
   "source": [
    "twitter_df.count()"
   ]
  },
  {
   "cell_type": "code",
   "execution_count": 113,
   "id": "4322b203",
   "metadata": {},
   "outputs": [],
   "source": [
    "output_path = \"/twitter_df.csv\""
   ]
  },
  {
   "cell_type": "code",
   "execution_count": 114,
   "id": "89e8be1f",
   "metadata": {},
   "outputs": [
    {
     "name": "stderr",
     "output_type": "stream",
     "text": [
      "                                                                                \r"
     ]
    }
   ],
   "source": [
    "twitter_df.write.csv(output_path, header = True, mode = 'overwrite')"
   ]
  },
  {
   "cell_type": "code",
   "execution_count": null,
   "id": "d4ecbf70",
   "metadata": {},
   "outputs": [],
   "source": []
  }
 ],
 "metadata": {
  "kernelspec": {
   "display_name": "Python 3 (ipykernel)",
   "language": "python",
   "name": "python3"
  },
  "language_info": {
   "codemirror_mode": {
    "name": "ipython",
    "version": 3
   },
   "file_extension": ".py",
   "mimetype": "text/x-python",
   "name": "python",
   "nbconvert_exporter": "python",
   "pygments_lexer": "ipython3",
   "version": "3.10.12"
  }
 },
 "nbformat": 4,
 "nbformat_minor": 5
}
