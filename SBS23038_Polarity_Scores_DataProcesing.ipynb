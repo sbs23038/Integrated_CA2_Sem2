{
 "cells": [
  {
   "cell_type": "code",
   "execution_count": 1,
   "id": "81ebec60",
   "metadata": {},
   "outputs": [
    {
     "data": {
      "text/plain": [
       "'local[*]'"
      ]
     },
     "execution_count": 1,
     "metadata": {},
     "output_type": "execute_result"
    }
   ],
   "source": [
    "sc.master"
   ]
  },
  {
   "cell_type": "code",
   "execution_count": 2,
   "id": "a39de7c8",
   "metadata": {},
   "outputs": [],
   "source": [
    "import warnings\n",
    "warnings.filterwarnings('ignore')"
   ]
  },
  {
   "cell_type": "code",
   "execution_count": 3,
   "id": "963dc34f",
   "metadata": {},
   "outputs": [
    {
     "name": "stderr",
     "output_type": "stream",
     "text": [
      "                                                                                \r"
     ]
    }
   ],
   "source": [
    "sc = spark.sparkContext\n",
    "\n",
    "path = \"/CA2/polairty_df.csv\"\n",
    "\n",
    "df = spark.read.csv(path, header = True, inferSchema = True)"
   ]
  },
  {
   "cell_type": "code",
   "execution_count": 4,
   "id": "dea70155",
   "metadata": {},
   "outputs": [
    {
     "name": "stderr",
     "output_type": "stream",
     "text": [
      "                                                                                \r"
     ]
    },
    {
     "data": {
      "text/plain": [
       "[Row(_c0=1632415, date='2009-04-18', test='radiodisney HEEECK YEAH', negative=0, neutral=1, positive=0),\n",
       " Row(_c0=1632416, date='2009-04-18', test='blast Bachelorette Party Watch photo video FB multiply', negative=0, neutral=1, positive=0),\n",
       " Row(_c0=1632417, date='2009-04-18', test='Hey Sam old wa Dougie started playing bass xx', negative=1, neutral=0, positive=0),\n",
       " Row(_c0=1632418, date='2009-04-18', test='hello', negative=0, neutral=1, positive=0),\n",
       " Row(_c0=1632419, date='2009-04-18', test='im excited see tonight time planning going', negative=0, neutral=0, positive=1)]"
      ]
     },
     "execution_count": 4,
     "metadata": {},
     "output_type": "execute_result"
    }
   ],
   "source": [
    "df.tail(5)"
   ]
  },
  {
   "cell_type": "code",
   "execution_count": 5,
   "id": "707785f7",
   "metadata": {},
   "outputs": [
    {
     "name": "stdout",
     "output_type": "stream",
     "text": [
      "+---+----------+--------------------+--------+-------+--------+\n",
      "|_c0|      date|                test|negative|neutral|positive|\n",
      "+---+----------+--------------------+--------+-------+--------+\n",
      "|  0|2009-04-06|Awww thats bummer...|       0|      0|       1|\n",
      "|  1|2009-04-06|upset cant update...|       0|      1|       0|\n",
      "|  2|2009-04-06|dived many time b...|       0|      0|       1|\n",
      "|  3|2009-04-06|whole body feel i...|       0|      0|       1|\n",
      "|  4|2009-04-06|behaving im mad c...|       1|      0|       0|\n",
      "|  5|2009-04-06|          whole crew|       0|      0|       1|\n",
      "|  6|2009-04-06|            Need hug|       0|      1|       0|\n",
      "|  7|2009-04-06|hey long time see...|       0|      0|       1|\n",
      "|  8|2009-04-06|          nope didnt|       0|      1|       0|\n",
      "|  9|2009-04-06|           que muera|       0|      1|       0|\n",
      "| 10|2009-04-06|spring break plai...|       1|      0|       0|\n",
      "| 11|2009-04-06|       repierced ear|       0|      1|       0|\n",
      "| 12|2009-04-06|couldnt bear watc...|       0|      1|       0|\n",
      "| 13|2009-04-06|count idk either ...|       0|      1|       0|\n",
      "| 14|2009-04-06|wouldve first did...|       0|      0|       1|\n",
      "| 15|2009-04-06|wish got watch mi...|       0|      1|       0|\n",
      "| 16|2009-04-06|Hollis death scen...|       0|      1|       0|\n",
      "| 17|2009-04-06|            file tax|       0|      1|       0|\n",
      "| 18|2009-04-06|ahh ive always wa...|       0|      0|       1|\n",
      "| 19|2009-04-06|Oh dear drinking ...|       0|      1|       0|\n",
      "+---+----------+--------------------+--------+-------+--------+\n",
      "only showing top 20 rows\n",
      "\n"
     ]
    },
    {
     "name": "stderr",
     "output_type": "stream",
     "text": [
      "2023-11-07 00:24:51,805 WARN csv.CSVHeaderChecker: CSV header does not conform to the schema.\n",
      " Header: , date, test, negative, neutral, positive\n",
      " Schema: _c0, date, test, negative, neutral, positive\n",
      "Expected: _c0 but found: \n",
      "CSV file: hdfs://localhost:9000/CA2/polairty_df.csv\n"
     ]
    }
   ],
   "source": [
    "df.show()"
   ]
  },
  {
   "cell_type": "code",
   "execution_count": 6,
   "id": "e04b5d30",
   "metadata": {},
   "outputs": [],
   "source": [
    "from pyspark.sql.functions import array"
   ]
  },
  {
   "cell_type": "code",
   "execution_count": 7,
   "id": "642d4ae2",
   "metadata": {},
   "outputs": [],
   "source": [
    "df = df.withColumn(\"array\", array(\"test\"))"
   ]
  },
  {
   "cell_type": "code",
   "execution_count": 8,
   "id": "5617154a",
   "metadata": {},
   "outputs": [
    {
     "name": "stderr",
     "output_type": "stream",
     "text": [
      "2023-11-07 00:24:52,929 WARN csv.CSVHeaderChecker: CSV header does not conform to the schema.\n",
      " Header: , date, test, negative, neutral, positive\n",
      " Schema: _c0, date, test, negative, neutral, positive\n",
      "Expected: _c0 but found: \n",
      "CSV file: hdfs://localhost:9000/CA2/polairty_df.csv\n"
     ]
    },
    {
     "name": "stdout",
     "output_type": "stream",
     "text": [
      "+---+----------+--------------------+--------+-------+--------+--------------------+\n",
      "|_c0|      date|                test|negative|neutral|positive|               array|\n",
      "+---+----------+--------------------+--------+-------+--------+--------------------+\n",
      "|  0|2009-04-06|Awww thats bummer...|       0|      0|       1|[Awww thats bumme...|\n",
      "|  1|2009-04-06|upset cant update...|       0|      1|       0|[upset cant updat...|\n",
      "|  2|2009-04-06|dived many time b...|       0|      0|       1|[dived many time ...|\n",
      "|  3|2009-04-06|whole body feel i...|       0|      0|       1|[whole body feel ...|\n",
      "|  4|2009-04-06|behaving im mad c...|       1|      0|       0|[behaving im mad ...|\n",
      "|  5|2009-04-06|          whole crew|       0|      0|       1|        [whole crew]|\n",
      "|  6|2009-04-06|            Need hug|       0|      1|       0|          [Need hug]|\n",
      "|  7|2009-04-06|hey long time see...|       0|      0|       1|[hey long time se...|\n",
      "|  8|2009-04-06|          nope didnt|       0|      1|       0|        [nope didnt]|\n",
      "|  9|2009-04-06|           que muera|       0|      1|       0|         [que muera]|\n",
      "| 10|2009-04-06|spring break plai...|       1|      0|       0|[spring break pla...|\n",
      "| 11|2009-04-06|       repierced ear|       0|      1|       0|     [repierced ear]|\n",
      "| 12|2009-04-06|couldnt bear watc...|       0|      1|       0|[couldnt bear wat...|\n",
      "| 13|2009-04-06|count idk either ...|       0|      1|       0|[count idk either...|\n",
      "| 14|2009-04-06|wouldve first did...|       0|      0|       1|[wouldve first di...|\n",
      "| 15|2009-04-06|wish got watch mi...|       0|      1|       0|[wish got watch m...|\n",
      "| 16|2009-04-06|Hollis death scen...|       0|      1|       0|[Hollis death sce...|\n",
      "| 17|2009-04-06|            file tax|       0|      1|       0|          [file tax]|\n",
      "| 18|2009-04-06|ahh ive always wa...|       0|      0|       1|[ahh ive always w...|\n",
      "| 19|2009-04-06|Oh dear drinking ...|       0|      1|       0|[Oh dear drinking...|\n",
      "+---+----------+--------------------+--------+-------+--------+--------------------+\n",
      "only showing top 20 rows\n",
      "\n"
     ]
    }
   ],
   "source": [
    "df.show()"
   ]
  },
  {
   "cell_type": "code",
   "execution_count": 9,
   "id": "338a1103",
   "metadata": {},
   "outputs": [],
   "source": [
    "from pyspark.ml.feature import CountVectorizer, IDF\n",
    "from pyspark.sql.functions import monotonically_increasing_id"
   ]
  },
  {
   "cell_type": "code",
   "execution_count": 11,
   "id": "b2592d7c",
   "metadata": {},
   "outputs": [
    {
     "name": "stderr",
     "output_type": "stream",
     "text": [
      "                                                                                \r"
     ]
    }
   ],
   "source": [
    "cv = CountVectorizer(inputCol=\"array\",outputCol=\"rawFeatures\",minDF=5, maxDF=0.9)\n",
    "cv_model = cv.fit(df)\n",
    "featurized_data = cv_model.transform(df)"
   ]
  },
  {
   "cell_type": "code",
   "execution_count": 12,
   "id": "d2e2ef10",
   "metadata": {},
   "outputs": [
    {
     "name": "stdout",
     "output_type": "stream",
     "text": [
      "+---+----------+--------------------+--------+-------+--------+--------------------+-------------------+\n",
      "|_c0|      date|                test|negative|neutral|positive|               array|        rawFeatures|\n",
      "+---+----------+--------------------+--------+-------+--------+--------------------+-------------------+\n",
      "|  0|2009-04-06|Awww thats bummer...|       0|      0|       1|[Awww thats bumme...|       (4129,[],[])|\n",
      "|  1|2009-04-06|upset cant update...|       0|      1|       0|[upset cant updat...|       (4129,[],[])|\n",
      "|  2|2009-04-06|dived many time b...|       0|      0|       1|[dived many time ...|       (4129,[],[])|\n",
      "|  3|2009-04-06|whole body feel i...|       0|      0|       1|[whole body feel ...|       (4129,[],[])|\n",
      "|  4|2009-04-06|behaving im mad c...|       1|      0|       0|[behaving im mad ...|       (4129,[],[])|\n",
      "|  5|2009-04-06|          whole crew|       0|      0|       1|        [whole crew]|       (4129,[],[])|\n",
      "|  6|2009-04-06|            Need hug|       0|      1|       0|          [Need hug]|       (4129,[],[])|\n",
      "|  7|2009-04-06|hey long time see...|       0|      0|       1|[hey long time se...|       (4129,[],[])|\n",
      "|  8|2009-04-06|          nope didnt|       0|      1|       0|        [nope didnt]|(4129,[3645],[1.0])|\n",
      "|  9|2009-04-06|           que muera|       0|      1|       0|         [que muera]|       (4129,[],[])|\n",
      "| 10|2009-04-06|spring break plai...|       1|      0|       0|[spring break pla...|       (4129,[],[])|\n",
      "| 11|2009-04-06|       repierced ear|       0|      1|       0|     [repierced ear]|       (4129,[],[])|\n",
      "| 12|2009-04-06|couldnt bear watc...|       0|      1|       0|[couldnt bear wat...|       (4129,[],[])|\n",
      "| 13|2009-04-06|count idk either ...|       0|      1|       0|[count idk either...|       (4129,[],[])|\n",
      "| 14|2009-04-06|wouldve first did...|       0|      0|       1|[wouldve first di...|       (4129,[],[])|\n",
      "| 15|2009-04-06|wish got watch mi...|       0|      1|       0|[wish got watch m...|       (4129,[],[])|\n",
      "| 16|2009-04-06|Hollis death scen...|       0|      1|       0|[Hollis death sce...|       (4129,[],[])|\n",
      "| 17|2009-04-06|            file tax|       0|      1|       0|          [file tax]|       (4129,[],[])|\n",
      "| 18|2009-04-06|ahh ive always wa...|       0|      0|       1|[ahh ive always w...|       (4129,[],[])|\n",
      "| 19|2009-04-06|Oh dear drinking ...|       0|      1|       0|[Oh dear drinking...|       (4129,[],[])|\n",
      "+---+----------+--------------------+--------+-------+--------+--------------------+-------------------+\n",
      "only showing top 20 rows\n",
      "\n"
     ]
    },
    {
     "name": "stderr",
     "output_type": "stream",
     "text": [
      "2023-11-07 00:26:08,308 WARN csv.CSVHeaderChecker: CSV header does not conform to the schema.\n",
      " Header: , date, test, negative, neutral, positive\n",
      " Schema: _c0, date, test, negative, neutral, positive\n",
      "Expected: _c0 but found: \n",
      "CSV file: hdfs://localhost:9000/CA2/polairty_df.csv\n"
     ]
    }
   ],
   "source": [
    "featurized_data.show()"
   ]
  },
  {
   "cell_type": "code",
   "execution_count": 13,
   "id": "e1412be4",
   "metadata": {},
   "outputs": [
    {
     "name": "stderr",
     "output_type": "stream",
     "text": [
      "                                                                                \r"
     ]
    }
   ],
   "source": [
    "idf = IDF(inputCol=\"rawFeatures\", outputCol=\"features\")\n",
    "idf_model = idf.fit(featurized_data)\n",
    "tfidf_data = idf_model.transform(featurized_data)"
   ]
  },
  {
   "cell_type": "code",
   "execution_count": 15,
   "id": "b510297e",
   "metadata": {},
   "outputs": [
    {
     "name": "stdout",
     "output_type": "stream",
     "text": [
      "+----------+--------------------+--------+--------+-------+\n",
      "|      date|            features|negative|positive|neutral|\n",
      "+----------+--------------------+--------+--------+-------+\n",
      "|2009-04-06|        (4129,[],[])|       0|       1|      0|\n",
      "|2009-04-06|        (4129,[],[])|       0|       0|      1|\n",
      "|2009-04-06|        (4129,[],[])|       0|       1|      0|\n",
      "|2009-04-06|        (4129,[],[])|       0|       1|      0|\n",
      "|2009-04-06|        (4129,[],[])|       1|       0|      0|\n",
      "|2009-04-06|        (4129,[],[])|       0|       1|      0|\n",
      "|2009-04-06|        (4129,[],[])|       0|       0|      1|\n",
      "|2009-04-06|        (4129,[],[])|       0|       1|      0|\n",
      "|2009-04-06|(4129,[3645],[12....|       0|       0|      1|\n",
      "|2009-04-06|        (4129,[],[])|       0|       0|      1|\n",
      "|2009-04-06|        (4129,[],[])|       1|       0|      0|\n",
      "|2009-04-06|        (4129,[],[])|       0|       0|      1|\n",
      "|2009-04-06|        (4129,[],[])|       0|       0|      1|\n",
      "|2009-04-06|        (4129,[],[])|       0|       0|      1|\n",
      "|2009-04-06|        (4129,[],[])|       0|       1|      0|\n",
      "|2009-04-06|        (4129,[],[])|       0|       0|      1|\n",
      "|2009-04-06|        (4129,[],[])|       0|       0|      1|\n",
      "|2009-04-06|        (4129,[],[])|       0|       0|      1|\n",
      "|2009-04-06|        (4129,[],[])|       0|       1|      0|\n",
      "|2009-04-06|        (4129,[],[])|       0|       0|      1|\n",
      "+----------+--------------------+--------+--------+-------+\n",
      "only showing top 20 rows\n",
      "\n"
     ]
    }
   ],
   "source": [
    "tfidf_data.select(\"date\",\"features\", \"negative\", \"positive\", \"neutral\").show()"
   ]
  },
  {
   "cell_type": "code",
   "execution_count": null,
   "id": "aaa1a450",
   "metadata": {},
   "outputs": [],
   "source": [
    "#pip install pandas"
   ]
  },
  {
   "cell_type": "code",
   "execution_count": 16,
   "id": "dc7b4c45",
   "metadata": {},
   "outputs": [],
   "source": [
    "import pandas as pd"
   ]
  },
  {
   "cell_type": "code",
   "execution_count": 17,
   "id": "280dd617",
   "metadata": {
    "scrolled": true
   },
   "outputs": [
    {
     "name": "stderr",
     "output_type": "stream",
     "text": [
      "                                                                                \r"
     ]
    }
   ],
   "source": [
    "tfidf_data.select(\"date\", \"test\", \"features\", \"negative\", \"positive\", \"neutral\").withColumn(\"date\", monotonically_increasing_id()).toPandas().to_csv('tfidf_data.csv', index=False)"
   ]
  },
  {
   "cell_type": "code",
   "execution_count": null,
   "id": "58efd893",
   "metadata": {},
   "outputs": [],
   "source": []
  }
 ],
 "metadata": {
  "kernelspec": {
   "display_name": "Python 3 (ipykernel)",
   "language": "python",
   "name": "python3"
  },
  "language_info": {
   "codemirror_mode": {
    "name": "ipython",
    "version": 3
   },
   "file_extension": ".py",
   "mimetype": "text/x-python",
   "name": "python",
   "nbconvert_exporter": "python",
   "pygments_lexer": "ipython3",
   "version": "3.10.12"
  }
 },
 "nbformat": 4,
 "nbformat_minor": 5
}
